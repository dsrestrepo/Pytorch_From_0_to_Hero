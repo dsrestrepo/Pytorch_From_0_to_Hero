{
 "cells": [
  {
   "cell_type": "code",
   "execution_count": 2,
   "id": "a2b5163f",
   "metadata": {},
   "outputs": [],
   "source": [
    "import random\n",
    "import torch\n",
    "import math\n",
    "import numpy as np\n",
    "\n",
    "# Dataset class, from `torch.utils.data.Dataset`\n",
    "class Dataset(torch.utils.data.Dataset):\n",
    "    # constructor\n",
    "    def __init__(self, X, Y):\n",
    "        self.X = X #torch.from_numpy(X).float() #.cuda() # if gpu\n",
    "        self.Y = Y #torch.from_numpy(Y).long()  #.cuda() # if gpu\n",
    "    # length of the hole dataset\n",
    "    def __len__(self):\n",
    "        return len(self.X)\n",
    "    # Get a single item\n",
    "    def __getitem__(self, ix):\n",
    "        return self.X[ix], self.Y[ix]\n"
   ]
  },
  {
   "cell_type": "code",
   "execution_count": 9,
   "id": "e41c0ba2",
   "metadata": {},
   "outputs": [
    {
     "name": "stdout",
     "output_type": "stream",
     "text": [
      "the train data looks like: tensor([[0.7465, 0.5573, 0.4160]]) ...\n",
      "the y data looks like: tensor([0.6791]) ...\n",
      "the train data looks like: tensor([[ -3.0944,   9.5756, -29.6311]]) ...\n",
      "the y data looks like: tensor([-0.0471]) ...\n"
     ]
    }
   ],
   "source": [
    "x = torch.linspace(-math.pi, math.pi, 2000)\n",
    "y = torch.sin(x)\n",
    "\n",
    "p = torch.tensor([1, 2, 3])\n",
    "xx = x.unsqueeze(-1).pow(p)\n",
    "\n",
    "\n",
    "epochs = 2000\n",
    "batch_size = 1000\n",
    "#batches = len(xx) // batch_size\n",
    "\n",
    "\n",
    "# create Dataset instance\n",
    "dataset = Dataset(xx,y)\n",
    "\n",
    "# put Dataset in dataloader\n",
    "dataloader = torch.utils.data.DataLoader(dataset, batch_size=batch_size, shuffle=True)\n",
    "\n",
    "# To train we can use:\n",
    "for x, y in iter(dataloader):\n",
    "    print(f'the train data looks like: {x[:1]} ...')\n",
    "    print(f'the y data looks like: {y[:1]} ...')\n",
    "    "
   ]
  },
  {
   "cell_type": "code",
   "execution_count": 15,
   "id": "eb2aa320",
   "metadata": {},
   "outputs": [
    {
     "name": "stdout",
     "output_type": "stream",
     "text": [
      "The loss in batch: 0 are: 3.3065197467803955\n",
      "The loss in batch: 100 are: 2.5539608001708984\n",
      "The loss in batch: 200 are: 1.9958108067512512\n",
      "The loss in batch: 300 are: 1.5795783400535583\n",
      "The loss in batch: 400 are: 1.2658033967018127\n",
      "The loss in batch: 500 are: 1.0309223532676697\n",
      "The loss in batch: 600 are: 0.8571739792823792\n",
      "The loss in batch: 700 are: 0.7334748804569244\n",
      "The loss in batch: 800 are: 0.6483313739299774\n",
      "The loss in batch: 900 are: 0.5922291874885559\n",
      "The loss in batch: 1000 are: 0.5567356646060944\n",
      "The loss in batch: 1100 are: 0.5355309247970581\n",
      "The loss in batch: 1200 are: 0.5236673951148987\n",
      "The loss in batch: 1300 are: 0.5173700451850891\n",
      "The loss in batch: 1400 are: 0.5140111446380615\n",
      "The loss in batch: 1500 are: 0.5122471451759338\n",
      "The loss in batch: 1600 are: 0.5112721621990204\n",
      "The loss in batch: 1700 are: 0.510453850030899\n",
      "The loss in batch: 1800 are: 0.5097896158695221\n",
      "The loss in batch: 1900 are: 0.5095250010490417\n"
     ]
    },
    {
     "data": {
      "text/plain": [
       "[Linear(in_features=3, out_features=60, bias=True),\n",
       " Linear(in_features=60, out_features=1, bias=True)]"
      ]
     },
     "execution_count": 15,
     "metadata": {},
     "output_type": "execute_result"
    }
   ],
   "source": [
    "# https://pytorch.org/docs/stable/nn.functional.html\n",
    "import torch.nn.functional as F\n",
    "\n",
    "class Model(torch.nn.Module):\n",
    "    \n",
    "    # constructor\n",
    "    def __init__(self, inputs, hidden, outputs):\n",
    "        \n",
    "        # Call constructor of parent class\n",
    "        super(Model, self).__init__()\n",
    "        \n",
    "        self.inputs = inputs\n",
    "        self.hidden = hidden\n",
    "        self.outputs = outputs\n",
    "        \n",
    "        # Layers: https://pytorch.org/docs/stable/nn.html\n",
    "        self.fc1 = torch.nn.Linear(inputs, hidden)\n",
    "        \n",
    "        self.fc2 = torch.nn.Linear(hidden, outputs)\n",
    "        \n",
    "    # Logic for forward pass\n",
    "    def forward(self, x):\n",
    "        x = F.relu(self.fc1(x))\n",
    "        x = self.fc2(x)\n",
    "        return x\n",
    "\n",
    "\n",
    "# Model\n",
    "model = Model(3, 60, 1)\n",
    "\n",
    "\n",
    "# Loss functions: \n",
    "#criterion = torch.nn.MSELoss(reduction='sum')\n",
    "#criterion = torch.nn.CrossEntropyLoss()\n",
    "criterion = torch.nn.MSELoss()\n",
    "\n",
    "# Optimizers: https://pytorch.org/docs/stable/optim.html\n",
    "#optimizer = torch.optim.SGD(model.parameters(), lr=1e-6)\n",
    "optimizer = torch.optim.Adam(model.parameters(), lr=1e-5)\n",
    "\n",
    "\n",
    "for t in range(epochs):\n",
    "    \n",
    "    # Batch\n",
    "    running_loss = []\n",
    "    \n",
    "    for x, y in iter(dataloader):\n",
    "\n",
    "        # Forward pass: Compute predicted y by passing x to the model\n",
    "        y_pred = model(x)\n",
    "\n",
    "        #y_pred = torch.flatten(y_pred, start_dim=0) # if I use reduction\n",
    "\n",
    "        # Compute and print loss\n",
    "        loss = criterion(y_pred, y)\n",
    "        running_loss.append(loss.item())\n",
    "        \n",
    "        # Zero gradients, perform a backward pass, and update the weights.\n",
    "        optimizer.zero_grad()\n",
    "        loss.backward()\n",
    "        optimizer.step()\n",
    "\n",
    "        \n",
    "    if t % 100 == 0:    # print every 10 epoch\n",
    "        print(f'The loss in batch: {t} are: {np.mean(running_loss)}')\n",
    "        \n",
    "list(model.children())"
   ]
  },
  {
   "cell_type": "code",
   "execution_count": null,
   "id": "70b4d405",
   "metadata": {},
   "outputs": [],
   "source": []
  },
  {
   "cell_type": "code",
   "execution_count": null,
   "id": "0c75964f",
   "metadata": {},
   "outputs": [],
   "source": []
  }
 ],
 "metadata": {
  "kernelspec": {
   "display_name": "Python 3 (ipykernel)",
   "language": "python",
   "name": "python3"
  },
  "language_info": {
   "codemirror_mode": {
    "name": "ipython",
    "version": 3
   },
   "file_extension": ".py",
   "mimetype": "text/x-python",
   "name": "python",
   "nbconvert_exporter": "python",
   "pygments_lexer": "ipython3",
   "version": "3.9.6"
  }
 },
 "nbformat": 4,
 "nbformat_minor": 5
}
